{
 "cells": [
  {
   "cell_type": "markdown",
   "metadata": {},
   "source": [
    "# PSI3532 - Experiência 3\n",
    "Henrique Souza de Melo - 9347031"
   ]
  },
  {
   "cell_type": "code",
   "execution_count": 1,
   "metadata": {},
   "outputs": [],
   "source": [
    "import numpy as np\n",
    "import matplotlib.pyplot as plt\n",
    "plt.rcParams.update({'text.usetex':True, 'font.size':18})\n",
    "from scipy import signal\n",
    "\n",
    "#importando o filtro LMS desenvolvido\n",
    "from filters import LMS"
   ]
  },
  {
   "cell_type": "markdown",
   "metadata": {},
   "source": [
    "## Função para realização dos ensaios"
   ]
  },
  {
   "cell_type": "code",
   "execution_count": 2,
   "metadata": {},
   "outputs": [],
   "source": [
    "def experiencia_3(item, entrada, mu, total_time, N):\n",
    "    params = {\n",
    "        '1':{\n",
    "            'H' : np.array([1,-.5]),\n",
    "            'M' : 2\n",
    "        },\n",
    "        '2a':{\n",
    "            'H' : np.array([1]),\n",
    "            'M' : 2\n",
    "        },\n",
    "        '2b':{\n",
    "            'H' : np.array([1, -.5, .2]),\n",
    "            'M' : 2\n",
    "        },\n",
    "        '3':{\n",
    "            'H' : np.array([1,-.5]),\n",
    "            'M' : 5\n",
    "        }\n",
    "    }\n",
    "    \n",
    "    H = params[item]['H']\n",
    "    M = params[item]['M']\n",
    "    \n",
    "    if entrada == '1':\n",
    "        a = 0\n",
    "    elif entrada == '2':\n",
    "        a = .9\n",
    "    \n",
    "    n = np.arange(start=0, stop=total_time, step=1)\n",
    "    \n",
    "    MSE = np.zeros(len(n))\n",
    "    EMSE = np.zeros(len(n))\n",
    "    MSD = np.zeros(len(n))\n",
    "    \n",
    "    sigma_u = np.sqrt(1)\n",
    "    \n",
    "    #calculo da autocorrelacao de x\n",
    "    r_x = lambda l : a ** abs(l) * sigma_u ** 2\n",
    "    \n",
    "    #calculo de R_phi\n",
    "    R_phi = np.zeros((M, M))\n",
    "    for i in range(len(R_phi)):\n",
    "        for j in range(len(R_phi)):\n",
    "            R_phi[i, j] = r_x(abs(i-j))\n",
    "    \n",
    "    #calculo de r_dphi\n",
    "    if len(H) == M:\n",
    "        k = M\n",
    "    elif len(H) > M:\n",
    "        k = M\n",
    "    else:\n",
    "        k = len(H)\n",
    "    r_dphi = np.zeros(M)\n",
    "    for i in range(len(r_dphi)):\n",
    "        r_dphi[i] += sum([(H[j] * r_x(i-j)) for j in range(k)])\n",
    "        \n",
    "    #calculo de W_o\n",
    "    W_o = np.linalg.solve(a=R_phi, b=np.reshape([r_dphi], newshape=(M, 1)))\n",
    "    W_o = W_o.flatten()\n",
    "    \n",
    "    for i in range(N):\n",
    "        u = np.random.randn(len(n)) * sigma_u\n",
    "        x = signal.lfilter(b=[np.sqrt(1 - a ** 2)], a=[1, -a], x=u)\n",
    "        y = signal.lfilter(b=H, a=1, x=x)\n",
    "        sigma_v = np.sqrt(.01)\n",
    "        v = np.random.randn(len(n)) * sigma_v\n",
    "        d = y + v #somar ruido ao y\n",
    "        \n",
    "        #calculo de valores teoricos apenas uma vez\n",
    "        if(i == 0):\n",
    "            e_o = np.zeros(len(x))\n",
    "            for i in range(M, len(e_o)):\n",
    "                e_o[i] = d[i] - np.dot(W_o, np.flip(x[(i - M):i]))\n",
    "            sigma2_o = np.mean(np.square(e_o))\n",
    "            MSE_teorico = np.ones(len(n)) * (sigma2_o + (mu * sigma2_o + np.matrix.trace(R_phi)) / 2)\n",
    "            MSD_teorico = np.ones(len(n)) * ((mu * sigma2_o * M) / 2)\n",
    "            EMSE_teorico = np.ones(len(n)) * ((mu * sigma2_o * np.matrix.trace(R_phi)) / 2)\n",
    "        \n",
    "        lms_filter = LMS(M=M, mu=mu)\n",
    "\n",
    "        for i in range(0, len(x)):\n",
    "            lms_filter.buffer(x[i], d[i])\n",
    "        \n",
    "        MSE += (1 / N) * np.square(lms_filter.e)\n",
    "        \n",
    "        deltaW = np.apply_along_axis(lambda row : (row - W_o),\n",
    "                                             axis=1,\n",
    "                                             arr=lms_filter.W)\n",
    "        \n",
    "        MSD += (1 / N) * np.sum(np.square(deltaW), axis=1)\n",
    "        \n",
    "        EMSE_i = np.zeros(len(x))\n",
    "        for j in range(M, len(EMSE_i)):\n",
    "            EMSE_i[j] = np.dot((lms_filter.W[j] - W_o), np.flip(x[(j - M):j]))\n",
    "        EMSE += (1 / N) * np.square(EMSE_i)\n",
    "        \n",
    "    \n",
    "    plt.figure(figsize=(14,10))\n",
    "    plt.plot(n, MSE, n, MSE_teorico, '--', n, MSD, n, MSD_teorico, '--', n, EMSE, n, EMSE_teorico, '--')\n",
    "    plt.legend(['MSE', 'MSE teórico', 'MSD', 'MSD teórico', 'EMSE', 'EMSE teórico'])\n",
    "    plt.xlabel('$n$')\n",
    "    plt.title('$H={H}$, $M={M}$, $a={a}$, $\\mu={mu}$'.format(H=H,M=M,a=a,mu=mu))\n",
    "    \n",
    "    return (lms_filter, W_o)"
   ]
  },
  {
   "cell_type": "markdown",
   "metadata": {},
   "source": [
    "## Realizando um ensaio"
   ]
  },
  {
   "cell_type": "markdown",
   "metadata": {},
   "source": [
    "Gráfico de medidas de desempenho e coeficientes ótimos"
   ]
  },
  {
   "cell_type": "code",
   "execution_count": 3,
   "metadata": {},
   "outputs": [
    {
     "data": {
      "text/plain": [
       "array([ 1. , -0.5])"
      ]
     },
     "execution_count": 3,
     "metadata": {},
     "output_type": "execute_result"
    },
    {
     "data": {
      "image/png": "[encoded data removed]",
      "text/plain": [
       "<Figure size 1008x720 with 1 Axes>"
      ]
     },
     "metadata": {
      "needs_background": "light"
     },
     "output_type": "display_data"
    }
   ],
   "source": [
    "lms_filter, W_o = experiencia_3(item='1', entrada='1', mu=.078, total_time=400, N=1000)\n",
    "W_o"
   ]
  },
  {
   "cell_type": "markdown",
   "metadata": {},
   "source": [
    "Coeficientes calculados"
   ]
  },
  {
   "cell_type": "code",
   "execution_count": 4,
   "metadata": {},
   "outputs": [
    {
     "data": {
      "text/plain": [
       "array([ 0.96348163, -0.51461728])"
      ]
     },
     "execution_count": 4,
     "metadata": {},
     "output_type": "execute_result"
    }
   ],
   "source": [
    "lms_filter.W[-1]"
   ]
  }
 ],
 "metadata": {
  "kernelspec": {
   "display_name": "Python 3",
   "language": "python",
   "name": "python3"
  },
  "language_info": {
   "codemirror_mode": {
    "name": "ipython",
    "version": 3
   },
   "file_extension": ".py",
   "mimetype": "text/x-python",
   "name": "python",
   "nbconvert_exporter": "python",
   "pygments_lexer": "ipython3",
   "version": "3.6.7"
  }
 },
 "nbformat": 4,
 "nbformat_minor": 2
}
